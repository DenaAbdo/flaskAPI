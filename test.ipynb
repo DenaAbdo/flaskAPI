{
 "cells": [
  {
   "cell_type": "code",
   "execution_count": 1,
   "metadata": {},
   "outputs": [
    {
     "name": "stdout",
     "output_type": "stream",
     "text": [
      "test\n"
     ]
    }
   ],
   "source": [
    "print(\"test\")"
   ]
  },
  {
   "cell_type": "code",
   "execution_count": null,
   "metadata": {},
   "outputs": [
    {
     "name": "stdout",
     "output_type": "stream",
     "text": [
      " * Serving Flask app '__main__'\n",
      " * Debug mode: on\n"
     ]
    },
    {
     "name": "stderr",
     "output_type": "stream",
     "text": [
      "WARNING: This is a development server. Do not use it in a production deployment. Use a production WSGI server instead.\n",
      " * Running on http://127.0.0.1:5000\n",
      "Press CTRL+C to quit\n",
      "127.0.0.1 - - [24/Nov/2024 21:01:41] \"GET / HTTP/1.1\" 200 -\n",
      "127.0.0.1 - - [24/Nov/2024 21:42:51] \"GET /submit-form HTTP/1.1\" 404 -\n",
      "127.0.0.1 - - [24/Nov/2024 21:43:30] \"POST /submit-form HTTP/1.1\" 404 -\n",
      "127.0.0.1 - - [24/Nov/2024 21:48:05] \"GET / HTTP/1.1\" 200 -\n",
      "127.0.0.1 - - [24/Nov/2024 22:14:32] \"GET / HTTP/1.1\" 200 -\n",
      "127.0.0.1 - - [24/Nov/2024 22:14:41] \"POST /submit-form HTTP/1.1\" 404 -\n",
      "127.0.0.1 - - [24/Nov/2024 22:15:22] \"POST /submit-form HTTP/1.1\" 404 -\n",
      "127.0.0.1 - - [24/Nov/2024 22:15:32] \"POST /submit-form HTTP/1.1\" 404 -\n",
      "127.0.0.1 - - [24/Nov/2024 22:35:07] \"POST /submit-form HTTP/1.1\" 404 -\n",
      "127.0.0.1 - - [24/Nov/2024 22:38:32] \"POST /submit-form HTTP/1.1\" 404 -\n",
      "127.0.0.1 - - [24/Nov/2024 22:44:48] \"GET / HTTP/1.1\" 200 -\n",
      "127.0.0.1 - - [24/Nov/2024 22:44:59] \"GET /form-submit HTTP/1.1\" 404 -\n",
      "127.0.0.1 - - [24/Nov/2024 22:45:05] \"GET /form_submit HTTP/1.1\" 404 -\n",
      "127.0.0.1 - - [24/Nov/2024 22:46:33] \"GET /form_submit HTTP/1.1\" 404 -\n",
      "127.0.0.1 - - [24/Nov/2024 22:46:37] \"GET / HTTP/1.1\" 200 -\n",
      "127.0.0.1 - - [24/Nov/2024 22:46:43] \"POST /submit-form HTTP/1.1\" 404 -\n",
      "127.0.0.1 - - [24/Nov/2024 22:48:59] \"GET /app.py HTTP/1.1\" 404 -\n",
      "127.0.0.1 - - [24/Nov/2024 22:49:20] \"GET /testFlask HTTP/1.1\" 404 -\n",
      "127.0.0.1 - - [24/Nov/2024 22:49:26] \"GET /testFlask/app.py HTTP/1.1\" 404 -\n",
      "127.0.0.1 - - [24/Nov/2024 22:49:31] \"GET / HTTP/1.1\" 200 -\n",
      "127.0.0.1 - - [24/Nov/2024 22:50:54] \"GET /form-submit HTTP/1.1\" 404 -\n"
     ]
    }
   ],
   "source": [
    "from flask import Flask\n",
    "\n",
    "app = Flask(__name__)\n",
    "\n",
    "@app.route('/')\n",
    "def home():\n",
    "    return \"Hello from Flask!\"\n",
    "\n",
    "if __name__ == '__main__':\n",
    "    app.run(debug=True, use_reloader=False)"
   ]
  },
  {
   "cell_type": "code",
   "execution_count": 5,
   "metadata": {},
   "outputs": [
    {
     "ename": "ModuleNotFoundError",
     "evalue": "No module named 'flask_cors'",
     "output_type": "error",
     "traceback": [
      "\u001b[1;31m---------------------------------------------------------------------------\u001b[0m",
      "\u001b[1;31mModuleNotFoundError\u001b[0m                       Traceback (most recent call last)",
      "Cell \u001b[1;32mIn[5], line 2\u001b[0m\n\u001b[0;32m      1\u001b[0m \u001b[38;5;28;01mfrom\u001b[39;00m \u001b[38;5;21;01mflask\u001b[39;00m \u001b[38;5;28;01mimport\u001b[39;00m Flask, jsonify\n\u001b[1;32m----> 2\u001b[0m \u001b[38;5;28;01mfrom\u001b[39;00m \u001b[38;5;21;01mflask_cors\u001b[39;00m \u001b[38;5;28;01mimport\u001b[39;00m CORS  \u001b[38;5;66;03m# Import CORS\u001b[39;00m\n\u001b[0;32m      4\u001b[0m app \u001b[38;5;241m=\u001b[39m Flask(\u001b[38;5;18m__name__\u001b[39m)\n\u001b[0;32m      5\u001b[0m CORS(app)  \u001b[38;5;66;03m# Enable CORS for the entire app\u001b[39;00m\n",
      "\u001b[1;31mModuleNotFoundError\u001b[0m: No module named 'flask_cors'"
     ]
    }
   ],
   "source": [
    "from flask import Flask, jsonify\n",
    "from flask_cors import CORS  # Import CORS\n",
    "\n",
    "app = Flask(__name__)\n",
    "CORS(app)  # Enable CORS for the entire app\n",
    "\n",
    "@app.route('/api/hello', methods=['GET'])\n",
    "def hello():\n",
    "    return jsonify({\"message\": \"Hello from Flask!\"})\n",
    "\n",
    "if __name__ == \"__main__\":\n",
    "    app.run(port=5000)\n"
   ]
  }
 ],
 "metadata": {
  "kernelspec": {
   "display_name": "Python 3",
   "language": "python",
   "name": "python3"
  },
  "language_info": {
   "codemirror_mode": {
    "name": "ipython",
    "version": 3
   },
   "file_extension": ".py",
   "mimetype": "text/x-python",
   "name": "python",
   "nbconvert_exporter": "python",
   "pygments_lexer": "ipython3",
   "version": "3.13.0"
  }
 },
 "nbformat": 4,
 "nbformat_minor": 2
}
